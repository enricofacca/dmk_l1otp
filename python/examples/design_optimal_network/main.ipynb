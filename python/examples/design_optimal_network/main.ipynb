{
 "cells": [
  {
   "cell_type": "markdown",
   "metadata": {},
   "source": [
    "Consider a domain $\\Omega \\subset R^2$. Given two measures $f^+=\\sum_i^{N^+} f^+_i \\delta_{x_i}$ and $f^-=\\sum_i^{N^-} f^-_i \\delta_{x_i}$ with equal mass, we want to find the optimal network (in the Branched Transport Problem sense) moving $f^+$ into $f^-$.\n",
    "\n",
    "The transport cost is described by a function $k:\\Omega\\to R^+$.\n",
    "\n",
    "The Optimal Network will be given as the support of the function $\\mu^*:\\to [0,+\\infty[$ and\n",
    "the flux in the netwokr will be given by $v^*=-\\mu^* \\nabla u^*$ with $u^*$ optimal potential.\n"
   ]
  },
  {
   "cell_type": "code",
   "execution_count": null,
   "metadata": {},
   "outputs": [],
   "source": [
    "# \n",
    "# Loading stardard and dmk pyhton modules\n",
    "#\n",
    "\n",
    "# Standard tools\n",
    "import sys\n",
    "import numpy as np\n",
    "\n",
    "\n",
    "# Import I/O for timedata\n",
    "try:\n",
    "    sys.path.append('../../../../../globals/python/timedata/')\n",
    "    import timedata as td\n",
    "except:\n",
    "    print(\"Global repo non found\")\n",
    "\n",
    "# Import geometry tools\n",
    "sys.path.append('../../../../../geometry/python/')\n",
    "import meshtools as mt\n",
    "sys.path.append('../../../preprocess/assembly/')\n",
    "import example_grid\n",
    "\n",
    "# Import dmk tools\n",
    "sys.path.append('../../')\n",
    "import dmk_p1p0 \n",
    "sys.path.append('../../../../build/python/fortran_python_interface/')\n",
    "from dmk import (Dmkcontrols,    # controls for dmk simulations)\n",
    "                 Timefunctionals, # information of time/algorithm evolution\n",
    "                Dmkinputsdata, # structure variable containg inputs data\n",
    "                 build_subgrid_rhs, #procedure to preprocess forcing term f\n",
    "                 Tdenspotentialsystem, # input/output result tdens, pot\n",
    "                dmkp1p0_steady_data   # main interface subroutine\n",
    "                )\n",
    "# Import plot tools\n",
    "import matplotlib.pyplot as plt\n"
   ]
  },
  {
   "cell_type": "code",
   "execution_count": null,
   "metadata": {},
   "outputs": [],
   "source": [
    "#\n",
    "# Define mesh for spatial disctetization.\n",
    "# Build the \"coord\" and \"topol\" numpy arrays describing coordinate and topology of the mesh.\n",
    "#\n",
    "\n",
    "# set mesh size \n",
    "ndiv=32\n",
    "length=1.0/float(ndiv)\n",
    "nref=0\n",
    "\n",
    "\n",
    "# set grid example\n",
    "flag_grid='unitsquare'\n",
    "\n",
    "# build grid using prebuild examples \n",
    "points, vertices, coord,topol,element_attributes = example_grid.example_grid(flag_grid,length)\n",
    "\n",
    "# initialized fortran variable for the spatial discretization\n",
    "[grid,subgrid]=dmk_p1p0.init_geometry(topol, coord, 1)\n",
    "ncell=grid.ncell\n",
    "ntdens=grid.ncell\n",
    "npot=subgrid.nnode"
   ]
  },
  {
   "cell_type": "code",
   "execution_count": null,
   "metadata": {},
   "outputs": [],
   "source": []
  },
  {
   "cell_type": "code",
   "execution_count": null,
   "metadata": {},
   "outputs": [],
   "source": [
    "sys.path.append('../../../../../geometry/python/')\n",
    "import meshtools as mt\n",
    "#\n",
    "# set number, value and location of source and sink points\n",
    "# \n",
    "Nplus=3\n",
    "Nminus=2\n",
    "\n",
    "fplus=[1,2,3]\n",
    "fminus=[4,2]\n",
    "\n",
    "xplus=[[0.1,0.2],[0.3,0.4],[0.1,0.7]]\n",
    "xminus=[[0.6,0.2],[0.8,0.4]]\n",
    "\n",
    "# set array forcing_dirac \"evoluation\" f=f^{+}-f^{-} on grid nodes\n",
    "forcing_dirac=np.zeros(grid.nnode)\n",
    "for i in range(Nplus):\n",
    "    inode=mt.Inode(coord,xplus[i])\n",
    "    forcing_dirac[inode]=fplus[i]\n",
    "for i in range(Nminus):\n",
    "    inode=mt.Inode(coord,xminus[i])\n",
    "    forcing_dirac[inode]=-fminus[i]\n",
    "\n",
    "# plot location oand intensity of source and sink\n",
    "ax = plt.gca()\n",
    "ax.cla() \n",
    "ax.set_xlim((0, 1))\n",
    "ax.set_ylim((0, 1))\n",
    "# some data\n",
    "for i in range(Nplus):\n",
    "    print((xplus[i][0],xplus[i][1]))\n",
    "    circle = plt.Circle((xplus[i][0],xplus[i][1]),0.01*fplus[i], color='red', fill=True)\n",
    "    ax.add_patch(circle)\n",
    "for i in range(Nminus):\n",
    "    circle = plt.Circle((xminus[i][0],xminus[i][1]),0.01*fminus[i], color='blue', fill=True)\n",
    "    ax.add_patch(circle)\n",
    "plt.show()\n",
    "\n",
    "    \n",
    "\n",
    "# initial integrated forcing term\n",
    "rhs=np.zeros(subgrid.ncell)\n",
    "dmk_p1p0.build_subgrid_rhs(subgrid,rhs, np.zeros(ncell),forcing_dirac)"
   ]
  },
  {
   "cell_type": "code",
   "execution_count": null,
   "metadata": {},
   "outputs": [],
   "source": [
    "# define transport post function\n",
    "def kappa(coord):\n",
    "    x=coord[0]; y=coord[1]\n",
    "    fvalue=0.1+np.random.random_sample()\n",
    "    return fvalue;\n",
    "\n",
    "\n",
    "# compute functions on cell centroids\n",
    "ncell=len(topol)\n",
    "bar_cell=mt.make_bar(coord,topol).transpose()\n",
    "kappa_cell=np.zeros([ncell]);\n",
    "for i in range(ncell):\n",
    "    kappa_cell[i] = kappa(bar_cell[:,i])"
   ]
  },
  {
   "cell_type": "code",
   "execution_count": null,
   "metadata": {
    "scrolled": false
   },
   "outputs": [],
   "source": [
    "import matplotlib.tri as mtri\n",
    "#\n",
    "# plot forcing term\n",
    "#\n",
    "triang = mtri.Triangulation(coord.transpose()[0,:], coord.transpose()[1,:], topol)\n",
    "fig1, ax1 = plt.subplots(figsize=(8, 8)); ax1.set_aspect('equal')\n",
    "tpc = ax1.tripcolor(triang, kappa_cell , cmap='RdBu_r')\n",
    "fig1.colorbar(tpc)\n",
    "ax1.set_title('Forcing term $k$')\n",
    "plt.show()"
   ]
  },
  {
   "cell_type": "markdown",
   "metadata": {},
   "source": [
    "We load the controls from file. You can either change it in the file or change some controls in the next cell."
   ]
  },
  {
   "cell_type": "code",
   "execution_count": null,
   "metadata": {},
   "outputs": [],
   "source": [
    "# Init and set \"container\" with inputs for dmk simulation\n",
    "dmkin=Dmkinputsdata.DmkInputs()\n",
    "Dmkinputsdata.dmkinputs_constructor(dmkin,0,ntdens,npot,True) # this True set to default all varaibles\n",
    "\n",
    "# integrate forcing term w.r.t. p1 base function\n",
    "build_subgrid_rhs(subgrid, dmkin.rhs, np.zeros(grid.ncell),forcing_dirac)\n",
    "dmkin.pflux = 1.5"
   ]
  },
  {
   "cell_type": "code",
   "execution_count": null,
   "metadata": {},
   "outputs": [],
   "source": []
  },
  {
   "cell_type": "code",
   "execution_count": null,
   "metadata": {},
   "outputs": [],
   "source": [
    "# Init \"container\" variable with tdens(mu) and potential(u) varaible\n",
    "tdpot=Tdenspotentialsystem.tdpotsys()\n",
    "Tdenspotentialsystem.tdpotsys_constructor(tdpot,0,ntdens, npot,1)\n",
    "tdpot.tdens[:]=1.0"
   ]
  },
  {
   "cell_type": "code",
   "execution_count": null,
   "metadata": {},
   "outputs": [],
   "source": [
    "# init and set controls\n",
    "ctrl = Dmkcontrols.DmkCtrl()\n",
    "Dmkcontrols.get_from_file(ctrl,'dmk.ctrl')\n",
    "ctrl.fn_tdens='tdens.dat'\n",
    "ctrl.fn_pot='pot.dat'\n",
    "ctrl.fn_statistics='dmk.log'\n",
    "\n",
    "#\n",
    "# init type for storing evolution/algorithm info\n",
    "#\n",
    "timefun=Timefunctionals.evolfun()\n",
    "Timefunctionals.evolfun_constructor(timefun, 0,\n",
    "                                        ctrl.max_time_iterations,\n",
    "                                        ctrl.max_nonlinear_iterations)\n",
    "\n",
    "# solve with dmk\n",
    "info=0\n",
    "dmkp1p0_steady_data(grid, subgrid, tdpot, dmkin, ctrl, info,timefun=timefun)\n",
    "\n"
   ]
  },
  {
   "cell_type": "code",
   "execution_count": null,
   "metadata": {},
   "outputs": [],
   "source": [
    "# plot convergence toward steady state\n",
    "time      = np.array(timefun.time[0:timefun.last_time_iteration]);\n",
    "cpu_time  = np.array(timefun.cpu_time[0:timefun.last_time_iteration])\n",
    "var_tdens = np.array(timefun.var_tdens[1:timefun.last_time_iteration])\n",
    "wass1     = np.array(timefun.lyapunov[1:timefun.last_time_iteration])\n",
    "\n",
    "plt.figure(1)\n",
    "plt.yscale('log')\n",
    "plt.ylabel('var($\\mu$)')\n",
    "plt.xlabel('CPU time (s)')\n",
    "plt.grid(True)\n",
    "plt.plot(cpu_time[1:], var_tdens, 'bo--')\n",
    "plt.show()"
   ]
  },
  {
   "cell_type": "code",
   "execution_count": null,
   "metadata": {},
   "outputs": [],
   "source": [
    "fig1, ax1 = plt.subplots(figsize=(16, 20))\n",
    "ax1.set_aspect('equal')\n",
    "tpc = ax1.tripcolor(triang, -tdpot.tdens, vmin=-1e-1,vmax=-1e-3,   cmap='cubehelix')\n",
    "#fig1.colorbar(tpc)\n",
    "#tpc = ax1.tripcolor(triang, dmkin.penalty_weight,   cmap='cubehelix')\n",
    "fig1.colorbar(tpc)\n",
    "#tcf = ax1.tricontour(triang, node_net,1)\n",
    "#fig1.colorbar(tcf)\n",
    "# some data\n",
    "for i in range(Nplus):\n",
    "    print((xplus[i][0],xplus[i][1]))\n",
    "    circle = plt.Circle((xplus[i][0],xplus[i][1]),0.01*fplus[i], color='red', fill=False)\n",
    "    ax1.add_patch(circle)\n",
    "for i in range(Nminus):\n",
    "    circle = plt.Circle((xminus[i][0],xminus[i][1]),0.01*fminus[i], color='blue', fill=False)\n",
    "    ax1.add_patch(circle)\n",
    "plt.show()"
   ]
  },
  {
   "cell_type": "code",
   "execution_count": null,
   "metadata": {},
   "outputs": [],
   "source": []
  }
 ],
 "metadata": {
  "kernelspec": {
   "display_name": "Python 3",
   "language": "python",
   "name": "python3"
  },
  "language_info": {
   "codemirror_mode": {
    "name": "ipython",
    "version": 3
   },
   "file_extension": ".py",
   "mimetype": "text/x-python",
   "name": "python",
   "nbconvert_exporter": "python",
   "pygments_lexer": "ipython3",
   "version": "3.6.10"
  }
 },
 "nbformat": 4,
 "nbformat_minor": 4
}
